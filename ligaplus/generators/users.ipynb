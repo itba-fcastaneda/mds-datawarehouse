{
 "cells": [
  {
   "cell_type": "code",
   "execution_count": 39,
   "metadata": {},
   "outputs": [],
   "source": [
    "import datetime\n",
    "HEADER=\"\"\"INSERT INTO public.\"User\"(\n",
    "\t\"Id\", \"Name\", \"BirthDate\", \"Gender\", \"ValidFrom\", \"ValidTo\", \"LocationId\", \"SegmentId\") VALUES\n",
    "\"\"\"\n",
    "ROW=\"( {user_id}, '{name}', '{birth_date}','{gender}', '{from_date}', '{to_date}', {location_id}, {segment_id} )\"\n",
    "RECORDS=1000\n",
    "LOCATION_RANGE=(1,17) # 17 locations\n",
    "SEGMENT_RANGE=(1,3) # 3 segments\n",
    "FUTURE=datetime.date(2999,12,31)\n",
    "GENDERS=[\"M\",\"F\",\"O\"]\n",
    "BIRTH_DATE_START=datetime.date(1950,1,1)\n",
    "BIRTH_DATE_RANGE=365*55 # 55 years\n",
    "SEGMENT_AGES_RANGES=[(0,25),(25,45),(45,100)] # 3 segments\n",
    "INSERT_USERS_FILE=\"../15_insert_users.sql\""
   ]
  },
  {
   "cell_type": "code",
   "execution_count": 40,
   "metadata": {},
   "outputs": [
    {
     "name": "stdout",
     "output_type": "stream",
     "text": [
      "( 1, 'Erik Benson', '1960-10-09','O', '2021-06-09', '2999-12-31', 5, 7 )\n",
      "( 2, 'Benjamin Davis', '1952-03-31','O', '2022-08-18', '2999-12-31', 7, 8 )\n",
      "( 3, 'Crystal Williamson', '1950-12-11','M', '2020-10-24', '2999-12-31', 6, 7 )\n",
      "( 4, 'Justin Gray', '1994-03-23','M', '2023-02-07', '2999-12-31', 12, 5 )\n",
      "( 5, 'Dennis Hansen', '1965-08-02','O', '2021-04-14', '2999-12-31', 8, 8 )\n",
      "( 6, 'Cynthia Mora', '1979-08-21','O', '2023-03-26', '2999-12-31', 12, 6 )\n",
      "( 7, 'Luke Perry', '1986-02-28','O', '2022-12-04', '2999-12-31', 5, 6 )\n",
      "( 8, 'Kevin Ross', '1972-12-13','M', '2021-07-01', '2999-12-31', 8, 7 )\n",
      "( 9, 'Randy Douglas', '1985-08-14','M', '2022-05-24', '2999-12-31', 11, 4 )\n",
      "( 10, 'Kelly Gardner', '1973-01-25','O', '2021-02-06', '2999-12-31', 9, 8 )\n"
     ]
    }
   ],
   "source": [
    "import faker\n",
    "import random\n",
    "\n",
    "faker_name = faker.Faker()\n",
    "today = datetime.date.today()\n",
    "insert_users = []\n",
    "for i in range(1,RECORDS+1):\n",
    "    name = faker_name.name()\n",
    "    \n",
    "    birth_date = BIRTH_DATE_START + datetime.timedelta(days=random.randint(0,BIRTH_DATE_RANGE))\n",
    "    from_date = today - datetime.timedelta(days=random.randint(180,365*5))\n",
    "    location_id = random.randint(*LOCATION_RANGE)\n",
    "    gender = random.choice(GENDERS)\n",
    "    age = (today - birth_date).days // 365\n",
    "    age_segment = list(filter(lambda x : x[0] <= age < x[1], SEGMENT_AGES_RANGES))\n",
    "    segment_id = random.randint(*SEGMENT_RANGE) + SEGMENT_AGES_RANGES.index(age_segment[0]) * 3\n",
    "    insert_users.append(\n",
    "        dict(\n",
    "            user_id=i,\n",
    "            name= name,\n",
    "            birth_date= birth_date,\n",
    "            from_date= from_date,\n",
    "            to_date= FUTURE,\n",
    "            gender=gender,\n",
    "            location_id=location_id,\n",
    "            segment_id=segment_id\n",
    "        )\n",
    "    )\n",
    "    print(ROW.format(**insert_users[-1]))\n",
    "\n"
   ]
  },
  {
   "cell_type": "code",
   "execution_count": null,
   "metadata": {},
   "outputs": [],
   "source": []
  },
  {
   "cell_type": "code",
   "execution_count": 41,
   "metadata": {},
   "outputs": [
    {
     "name": "stdout",
     "output_type": "stream",
     "text": [
      "INSERT INTO public.\"User\"(\n",
      "\t\"Id\", \"Name\", \"BirthDate\", \"Gender\", \"ValidFrom\", \"ValidTo\", \"LocationId\", \"SegmentId\") VALUES\n",
      "( 1, 'Erik Benson', '1960-10-09','O', '2021-06-09', '2999-12-31', 5, 7 ),\n",
      "( 2, 'Benjamin Davis', '1952-03-31','O', '2022-08-18', '2999-12-31', 7, 8 ),\n",
      "( 3, 'Crystal Williamson', '1950-12-11','M', '2020-10-24', '2999-12-31', 6, 7 ),\n",
      "( 4, 'Justin Gray', '1994-03-23','M', '2023-02-07', '2999-12-31', 12, 5 ),\n",
      "( 5, 'Dennis Hansen', '1965-08-02','O', '2021-04-14', '2999-12-31', 8, 8 ),\n",
      "( 6, 'Cynthia Mora', '1979-08-21','O', '2023-03-26', '2999-12-31', 12, 6 ),\n",
      "( 7, 'Luke Perry', '1986-02-28','O', '2022-12-04', '2999-12-31', 5, 6 ),\n",
      "( 8, 'Kevin Ross', '1972-12-13','M', '2021-07-01', '2999-12-31', 8, 7 ),\n",
      "( 9, 'Randy Douglas', '1985-08-14','M', '2022-05-24', '2999-12-31', 11, 4 ),\n",
      "( 10, 'Kelly Gardner', '1973-01-25','O', '2021-02-06', '2999-12-31', 9, 8 );\n"
     ]
    }
   ],
   "source": [
    "## MAKE INSERT STATEMENT\n",
    "insert_sql = f'{HEADER}'\n",
    "insert_sql += ',\\n'.join([ROW.format(**user) for user in insert_users])\n",
    "insert_sql += ';'\n",
    "print(insert_sql)\n"
   ]
  },
  {
   "cell_type": "code",
   "execution_count": 42,
   "metadata": {},
   "outputs": [],
   "source": [
    "with open(INSERT_USERS_FILE, 'w') as f:\n",
    "    f.write(insert_sql)"
   ]
  },
  {
   "cell_type": "code",
   "execution_count": 34,
   "metadata": {},
   "outputs": [
    {
     "data": {
      "text/plain": [
       "48"
      ]
     },
     "execution_count": 34,
     "metadata": {},
     "output_type": "execute_result"
    }
   ],
   "source": [
    "(datetime.date.today() - datetime.date(1975,7,9)).days // 365"
   ]
  },
  {
   "cell_type": "code",
   "execution_count": null,
   "metadata": {},
   "outputs": [],
   "source": []
  }
 ],
 "metadata": {
  "kernelspec": {
   "display_name": ".venv",
   "language": "python",
   "name": "python3"
  },
  "language_info": {
   "codemirror_mode": {
    "name": "ipython",
    "version": 3
   },
   "file_extension": ".py",
   "mimetype": "text/x-python",
   "name": "python",
   "nbconvert_exporter": "python",
   "pygments_lexer": "ipython3",
   "version": "3.11.6"
  }
 },
 "nbformat": 4,
 "nbformat_minor": 2
}
