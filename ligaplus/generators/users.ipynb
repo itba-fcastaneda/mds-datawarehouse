{
 "cells": [
  {
   "cell_type": "code",
   "execution_count": 27,
   "metadata": {},
   "outputs": [],
   "source": [
    "import datetime\n",
    "HEADER=\"\"\"INSERT INTO public.\"User\"(\n",
    "\t\"Id\", \"Name\", \"BirthDate\", \"Gender\", \"ValidFrom\", \"ValidTo\", \"LocationId\", \"SegmentId\") VALUES\n",
    "\"\"\"\n",
    "ROW=\"( {user_id}, '{name}', '{birth_date}','{gender}', '{from_date}', '{to_date}', {location_id}, {segment_id} )\"\n",
    "RECORDS=10\n",
    "LOCATION_RANGE=(1,17) # 17 locations\n",
    "SEGMENT_RANGE=(1,3) # 3 segments\n",
    "FUTURE=datetime.date(2999,12,31)\n",
    "GENDERS=[\"M\",\"F\",\"O\"]\n",
    "BIRTH_DATE_START=datetime.date(1950,1,1)\n",
    "BIRTH_DATE_RANGE=365*55 # 55 years\n"
   ]
  },
  {
   "cell_type": "code",
   "execution_count": 28,
   "metadata": {},
   "outputs": [
    {
     "name": "stdout",
     "output_type": "stream",
     "text": [
      "( 1, 'David Dougherty', '1962-01-05','M', '2019-04-30', '2999-12-31', 5, 2 )\n",
      "( 2, 'Cameron Stone', '2003-10-03','M', '2021-02-05', '2999-12-31', 2, 2 )\n",
      "( 3, 'Larry Meadows', '1979-06-23','F', '2022-07-09', '2999-12-31', 15, 1 )\n",
      "( 4, 'Tara Henry', '1970-04-09','O', '2023-02-14', '2999-12-31', 4, 3 )\n",
      "( 5, 'Tracy Kelly', '1964-01-10','O', '2021-06-04', '2999-12-31', 15, 1 )\n",
      "( 6, 'Jose Stafford', '1951-10-27','O', '2020-05-31', '2999-12-31', 2, 1 )\n",
      "( 7, 'Ryan West', '1989-12-18','F', '2020-02-14', '2999-12-31', 1, 3 )\n",
      "( 8, 'Warren Diaz', '1963-01-09','O', '2020-02-20', '2999-12-31', 16, 2 )\n",
      "( 9, 'Leah Stewart', '1987-10-12','M', '2020-06-12', '2999-12-31', 10, 2 )\n",
      "( 10, 'Michael Torres', '1997-02-02','F', '2022-02-04', '2999-12-31', 8, 2 )\n"
     ]
    }
   ],
   "source": [
    "import faker\n",
    "import random\n",
    "\n",
    "faker_name = faker.Faker()\n",
    "today = datetime.date.today()\n",
    "insert_users = []\n",
    "for i in range(1,RECORDS+1):\n",
    "    name = faker_name.name()\n",
    "    birth_date = BIRTH_DATE_START + datetime.timedelta(days=random.randint(0,BIRTH_DATE_RANGE))\n",
    "    from_date = today - datetime.timedelta(days=random.randint(180,365*5))\n",
    "    location_id = random.randint(*LOCATION_RANGE)\n",
    "    gender = random.choice(GENDERS)\n",
    "    segment_id = random.randint(*SEGMENT_RANGE)\n",
    "    insert_users.append(\n",
    "        dict(\n",
    "            user_id=i,\n",
    "            name= name,\n",
    "            birth_date= birth_date,\n",
    "            from_date= from_date,\n",
    "            to_date= FUTURE,\n",
    "            gender=gender,\n",
    "            location_id=location_id,\n",
    "            segment_id=segment_id\n",
    "        )\n",
    "    )\n",
    "    print(ROW.format(**insert_users[-1]))\n",
    "\n"
   ]
  },
  {
   "cell_type": "code",
   "execution_count": null,
   "metadata": {},
   "outputs": [],
   "source": []
  },
  {
   "cell_type": "code",
   "execution_count": 29,
   "metadata": {},
   "outputs": [
    {
     "name": "stdout",
     "output_type": "stream",
     "text": [
      "INSERT INTO public.\"User\"(\n",
      "\t\"Id\", \"Name\", \"BirthDate\", \"Gender\", \"ValidFrom\", \"ValidTo\", \"LocationId\", \"SegmentId\") VALUES\n",
      "( 1, 'David Dougherty', '1962-01-05','M', '2019-04-30', '2999-12-31', 5, 2 ),\n",
      "( 2, 'Cameron Stone', '2003-10-03','M', '2021-02-05', '2999-12-31', 2, 2 ),\n",
      "( 3, 'Larry Meadows', '1979-06-23','F', '2022-07-09', '2999-12-31', 15, 1 ),\n",
      "( 4, 'Tara Henry', '1970-04-09','O', '2023-02-14', '2999-12-31', 4, 3 ),\n",
      "( 5, 'Tracy Kelly', '1964-01-10','O', '2021-06-04', '2999-12-31', 15, 1 ),\n",
      "( 6, 'Jose Stafford', '1951-10-27','O', '2020-05-31', '2999-12-31', 2, 1 ),\n",
      "( 7, 'Ryan West', '1989-12-18','F', '2020-02-14', '2999-12-31', 1, 3 ),\n",
      "( 8, 'Warren Diaz', '1963-01-09','O', '2020-02-20', '2999-12-31', 16, 2 ),\n",
      "( 9, 'Leah Stewart', '1987-10-12','M', '2020-06-12', '2999-12-31', 10, 2 ),\n",
      "( 10, 'Michael Torres', '1997-02-02','F', '2022-02-04', '2999-12-31', 8, 2 );\n"
     ]
    }
   ],
   "source": [
    "## MAKE INSERT STATEMENT\n",
    "insert_sql = f'{HEADER}'\n",
    "insert_sql += ',\\n'.join([ROW.format(**user) for user in insert_users])\n",
    "insert_sql += ';'\n",
    "print(insert_sql)\n"
   ]
  },
  {
   "cell_type": "code",
   "execution_count": null,
   "metadata": {},
   "outputs": [],
   "source": []
  },
  {
   "cell_type": "code",
   "execution_count": null,
   "metadata": {},
   "outputs": [],
   "source": []
  }
 ],
 "metadata": {
  "kernelspec": {
   "display_name": ".venv",
   "language": "python",
   "name": "python3"
  },
  "language_info": {
   "codemirror_mode": {
    "name": "ipython",
    "version": 3
   },
   "file_extension": ".py",
   "mimetype": "text/x-python",
   "name": "python",
   "nbconvert_exporter": "python",
   "pygments_lexer": "ipython3",
   "version": "3.11.6"
  }
 },
 "nbformat": 4,
 "nbformat_minor": 2
}
