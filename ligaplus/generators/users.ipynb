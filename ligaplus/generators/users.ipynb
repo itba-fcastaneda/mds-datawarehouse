{
 "cells": [
  {
   "cell_type": "code",
   "execution_count": null,
   "metadata": {},
   "outputs": [],
   "source": [
    "import datetime\n",
    "HEADER=\"\"\"DELETE FROM public.\"User\"; INSERT INTO public.\"User\"(\n",
    "\t\"Id\", \"Name\", \"BirthDate\", \"Gender\", \"ValidFrom\", \"ValidTo\", \"LocationId\", \"SegmentId\") VALUES\n",
    "\"\"\"\n",
    "ROW=\"( {user_id}, '{name}', '{birth_date}','{gender}', '{from_date}', '{to_date}', {location_id}, {segment_id} )\"\n",
    "RECORDS=1000\n",
    "LOCATION_RANGE=(1,17) # 17 locations\n",
    "SEGMENT_RANGE=(1,3) # 3 segments\n",
    "FUTURE=datetime.date(2999,12,31)\n",
    "GENDERS=[\"M\",\"F\",\"O\"]\n",
    "BIRTH_DATE_START=datetime.date(1950,1,1)\n",
    "BIRTH_DATE_RANGE=365*55 # 55 years\n",
    "SEGMENT_AGES_RANGES=[(0,25),(25,45),(45,100)] # 3 segments\n",
    "INSERT_USERS_FILE=\"../15_insert_users.sql\""
   ]
  },
  {
   "cell_type": "code",
   "execution_count": null,
   "metadata": {},
   "outputs": [],
   "source": [
    "import faker\n",
    "import random\n",
    "\n",
    "faker_name = faker.Faker()\n",
    "today = datetime.date.today()\n",
    "insert_users = []\n",
    "for i in range(1,RECORDS+1):\n",
    "    name = faker_name.name()\n",
    "    \n",
    "    birth_date = BIRTH_DATE_START + datetime.timedelta(days=random.randint(0,BIRTH_DATE_RANGE))\n",
    "    from_date = today - datetime.timedelta(days=random.randint(180,365*5))\n",
    "    location_id = random.randint(*LOCATION_RANGE)\n",
    "    gender = random.choice(GENDERS)\n",
    "    age = (today - birth_date).days // 365\n",
    "    age_segment = list(filter(lambda x : x[0] <= age < x[1], SEGMENT_AGES_RANGES))\n",
    "    segment_id = random.randint(*SEGMENT_RANGE) + SEGMENT_AGES_RANGES.index(age_segment[0]) * 3\n",
    "    insert_users.append(\n",
    "        dict(\n",
    "            user_id=i,\n",
    "            name= name,\n",
    "            birth_date= birth_date,\n",
    "            from_date= from_date,\n",
    "            to_date= FUTURE,\n",
    "            gender=gender,\n",
    "            location_id=location_id,\n",
    "            segment_id=segment_id\n",
    "        )\n",
    "    )\n",
    "    print(ROW.format(**insert_users[-1]))\n",
    "\n"
   ]
  },
  {
   "cell_type": "code",
   "execution_count": null,
   "metadata": {},
   "outputs": [],
   "source": [
    "## MAKE INSERT STATEMENT\n",
    "insert_sql = f'{HEADER}'\n",
    "insert_sql += ',\\n'.join([ROW.format(**user) for user in insert_users])\n",
    "insert_sql += ';'\n",
    "print(insert_sql)\n"
   ]
  },
  {
   "cell_type": "code",
   "execution_count": null,
   "metadata": {},
   "outputs": [],
   "source": [
    "with open(INSERT_USERS_FILE, 'w') as f:\n",
    "    f.write(insert_sql)"
   ]
  },
  {
   "cell_type": "code",
   "execution_count": null,
   "metadata": {},
   "outputs": [],
   "source": [
    "#### Set user subscriptions\n",
    "HEADER=\"\"\"DELETE FROM public.\"UserSubscription\"; INSERT INTO public.\"UserSubscription\"(\n",
    "    \"UserId\", \"SubscriptionId\", \"ValidFrom\", \"ValidTo\") VALUES\n",
    "\"\"\"\n",
    "ROW=\"( {user_id}, {subscription_id}, '{from_date}', '{to_date}' )\"\n",
    "SUBSCRIPTIONS_RANGE=(1,3) # 3 subscriptions\n",
    "CHANGE_SUB_ONE_TIME=0.5\n",
    "CHANGE_SUB_TWO_TIMES=0.3"
   ]
  },
  {
   "cell_type": "code",
   "execution_count": null,
   "metadata": {},
   "outputs": [],
   "source": [
    "# Set initial subs for every user, sharing same start date\n",
    "insert_subscriptions = []\n",
    "for user in insert_users:\n",
    "    insert_subscriptions.append(\n",
    "        dict(\n",
    "            user_id=user['user_id'],\n",
    "            subscription_id=random.randint(*SUBSCRIPTIONS_RANGE),\n",
    "            from_date=user['from_date'],\n",
    "            to_date=user['from_date'] + datetime.timedelta(days=round((datetime.date.today() - user['from_date']).days * random.random()))\n",
    "        )\n",
    "    )\n",
    "    print(ROW.format(**insert_subscriptions[-1]))"
   ]
  },
  {
   "cell_type": "code",
   "execution_count": null,
   "metadata": {},
   "outputs": [],
   "source": [
    "lost_customers_index = random.sample(\n",
    "    range(0,len(insert_subscriptions)), \n",
    "    int((CHANGE_SUB_ONE_TIME+CHANGE_SUB_TWO_TIMES)*len(insert_subscriptions))\n",
    ")\n",
    "len(lost_customers_index)\n"
   ]
  },
  {
   "cell_type": "code",
   "execution_count": null,
   "metadata": {},
   "outputs": [],
   "source": []
  },
  {
   "cell_type": "code",
   "execution_count": null,
   "metadata": {},
   "outputs": [],
   "source": [
    "# Change subscription once\n",
    "from collections import defaultdict\n",
    "\n",
    "\n",
    "cut_index = int(CHANGE_SUB_ONE_TIME*len(insert_users))\n",
    "for i in lost_customers_index:\n",
    "    new_sub = insert_subscriptions[i]['subscription_id']\n",
    "    while insert_subscriptions[i]['subscription_id'] == (new_sub := random.randint(*SUBSCRIPTIONS_RANGE)): ... \n",
    "    insert_subscriptions.append(\n",
    "        dict(\n",
    "            user_id=insert_subscriptions[i]['user_id'],\n",
    "            subscription_id=new_sub ,\n",
    "            from_date=insert_subscriptions[i]['to_date'] + datetime.timedelta(days=1),\n",
    "            to_date=FUTURE\n",
    "        )\n",
    "    )\n",
    "# Change subscription twice    \n",
    "for i in lost_customers_index[cut_index:]:\n",
    "    # Find a new subscription change date\n",
    "    days_first_sub = int((today - insert_subscriptions[i]['to_date']).days * random.random())\n",
    "    # Change to date from previous subscription\n",
    "    insert_subscriptions[i]['to_date'] = insert_subscriptions[i]['from_date'] + datetime.timedelta(days=days_first_sub)\n",
    "    # Add new subscription\n",
    "    while insert_subscriptions[i]['subscription_id'] == (new_sub := random.randint(*SUBSCRIPTIONS_RANGE)): ... \n",
    "    insert_subscriptions.append(\n",
    "        dict(\n",
    "            user_id=insert_subscriptions[i]['user_id'],\n",
    "            subscription_id=new_sub ,\n",
    "            from_date=insert_subscriptions[i]['to_date'] + datetime.timedelta(days=1),\n",
    "            to_date=FUTURE\n",
    "        )\n",
    "    )\n",
    "\n",
    "  "
   ]
  },
  {
   "cell_type": "code",
   "execution_count": null,
   "metadata": {},
   "outputs": [],
   "source": [
    "# Check users with miltiple rows\n",
    "repeated_user_id_count = defaultdict(int)\n",
    "for item in insert_subscriptions:\n",
    "    print(repeated_user_id_count[item['user_id']])\n",
    "    repeated_user_id_count[item['user_id']] += 1\n",
    "count = [0,0,0]\n",
    "for v in repeated_user_id_count.values():\n",
    "    count[v-1] += 1\n",
    "print(f'Users with 1 subscription: {count[0]}')\n",
    "print(f'Users with 2 subscriptions: {count[1]}')\n",
    "print(f'Users with 3 subscriptions: {count[2]}')  "
   ]
  },
  {
   "cell_type": "code",
   "execution_count": null,
   "metadata": {},
   "outputs": [],
   "source": [
    "len(insert_subscriptions)"
   ]
  },
  {
   "cell_type": "code",
   "execution_count": null,
   "metadata": {},
   "outputs": [],
   "source": [
    "## Create user subscriptions insert statement\n",
    "insert_sql = f'{HEADER}'\n",
    "insert_sql += ',\\n'.join([ROW.format(**sub) for sub in insert_subscriptions])\n",
    "insert_sql += ';'   \n",
    "\n",
    "print(insert_sql)"
   ]
  },
  {
   "cell_type": "code",
   "execution_count": null,
   "metadata": {},
   "outputs": [],
   "source": [
    "# Write to file\n",
    "INSERT_SUBSCRIPTIONS_FILE=\"../16_insert_user_subscriptions.sql\"\n",
    "with open(INSERT_SUBSCRIPTIONS_FILE, 'w') as f:\n",
    "    f.write(insert_sql)"
   ]
  },
  {
   "cell_type": "code",
   "execution_count": null,
   "metadata": {},
   "outputs": [],
   "source": []
  }
 ],
 "metadata": {
  "kernelspec": {
   "display_name": ".venv",
   "language": "python",
   "name": "python3"
  },
  "language_info": {
   "codemirror_mode": {
    "name": "ipython",
    "version": 3
   },
   "file_extension": ".py",
   "mimetype": "text/x-python",
   "name": "python",
   "nbconvert_exporter": "python",
   "pygments_lexer": "ipython3",
   "version": "3.11.6"
  }
 },
 "nbformat": 4,
 "nbformat_minor": 2
}
