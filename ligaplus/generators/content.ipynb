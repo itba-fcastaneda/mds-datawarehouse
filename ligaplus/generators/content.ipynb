{
 "cells": [
  {
   "cell_type": "code",
   "execution_count": null,
   "metadata": {},
   "outputs": [],
   "source": [
    "CONTENT_CSV_FILE = '../source_data/export.csv'"
   ]
  },
  {
   "cell_type": "code",
   "execution_count": null,
   "metadata": {},
   "outputs": [],
   "source": [
    "## Load content\n",
    "import csv\n",
    "\n",
    "content = []\n",
    "with open(CONTENT_CSV_FILE, newline='') as csvfile:\n",
    "    reader = csv.DictReader(csvfile)\n",
    "    for row in reader:\n",
    "        content.append(row)\n",
    "\n",
    "content"
   ]
  },
  {
   "cell_type": "code",
   "execution_count": null,
   "metadata": {},
   "outputs": [],
   "source": [
    "categories = set()\n",
    "for item in content:\n",
    "    categories.add(item['DsCompetition'])\n",
    "categories_items = { category:i  for i, category in enumerate(categories) }\n",
    "categories_items"
   ]
  },
  {
   "cell_type": "code",
   "execution_count": null,
   "metadata": {},
   "outputs": [],
   "source": [
    "CATEGORY_HEADER = 'DELETE FROM public.\"Category\"; INSERT INTO public.\"Category\" (\"Id\", \"Description\") VALUES \\n'\n",
    "CATEGORY_ROW = \"({id}, '{description}')\"\n",
    "CATEGORY_SQL_FILE = '../17_insert_category.sql'"
   ]
  },
  {
   "cell_type": "code",
   "execution_count": null,
   "metadata": {},
   "outputs": [],
   "source": [
    "# Create category SQL\n",
    "category_sql = CATEGORY_HEADER\n",
    "category_sql += ',\\n'.join( [ CATEGORY_ROW.format(id=id, description=category) for category, id in categories_items.items() ])\n",
    "category_sql += ';'\n",
    "category_sql"
   ]
  },
  {
   "cell_type": "code",
   "execution_count": null,
   "metadata": {},
   "outputs": [],
   "source": [
    "# WRITE CATEGORY SQL\n",
    "with open(CATEGORY_SQL_FILE, 'w') as f:\n",
    "    f.write(category_sql)"
   ]
  },
  {
   "cell_type": "code",
   "execution_count": null,
   "metadata": {},
   "outputs": [],
   "source": [
    "import datetime\n",
    "import random\n",
    "\n",
    "CONTENT_HEADER = \"\"\"DELETE FROM public.\"Content\"; \n",
    "INSERT INTO public.\"Content\"( \\n\"Id\", \"CategoryId\", \"Description\", \"Duration\", \"StartDate\", \"EndData\") \n",
    "VALUES \\n\"\"\"\n",
    "CONTENT_ROW = \"({id}, '{category_id}', '{description}', {duration}, '{start_date}', '{end_date}')\"\n",
    "CONTENT_SQL_FILE = '../18_insert_content.sql'\n",
    "FUTURE=datetime.date(2999,12,31)\n",
    "ENDED_CONTENT=0.2"
   ]
  },
  {
   "cell_type": "code",
   "execution_count": null,
   "metadata": {},
   "outputs": [],
   "source": [
    "content_items = []\n",
    "today = datetime.date.today()\n",
    "\n",
    "for i, item in enumerate(content):\n",
    "    ## Random between 6 months and 5 years\n",
    "    from_date = today - datetime.timedelta(days=random.randint(180,365*5))\n",
    "    content_items.append(dict(\n",
    "        id=i,\n",
    "        category_id=categories_items[item['DsCompetition']],\n",
    "        description=item['NaAsset'].replace(\"'\", \"\")),\n",
    "        duration=int(float(item['QtMinutesDuration'])*60),\n",
    "        start_date=from_date,\n",
    "        end_date=FUTURE\n",
    "    ))\n",
    "print('Content items: ', len(content_items))\n",
    "content_items\n"
   ]
  },
  {
   "cell_type": "code",
   "execution_count": null,
   "metadata": {},
   "outputs": [],
   "source": [
    "ended_content = random.sample(\n",
    "    range(0,len(content_items)), \n",
    "    int((ENDED_CONTENT)*len(content_items))\n",
    ")\n",
    "len(ended_content)"
   ]
  },
  {
   "cell_type": "code",
   "execution_count": null,
   "metadata": {},
   "outputs": [],
   "source": []
  },
  {
   "cell_type": "code",
   "execution_count": null,
   "metadata": {},
   "outputs": [],
   "source": [
    "# For ended content, set end date in the past 6 months randomly\n",
    "for i in ended_content:\n",
    "    to_date = today - datetime.timedelta(days=random.randint(1,180))\n",
    "    content_items[i]['end_date'] = to_date\n",
    "\n",
    "# Count and confirm items with end_date not in the FUTURE\n",
    "count = len(list( filter(lambda x : x['end_date'] != FUTURE , content_items) ))\n",
    "print('Ended content: ', count)"
   ]
  },
  {
   "cell_type": "code",
   "execution_count": null,
   "metadata": {},
   "outputs": [],
   "source": []
  },
  {
   "cell_type": "code",
   "execution_count": null,
   "metadata": {},
   "outputs": [],
   "source": [
    "# Generate SQL\n",
    "content_sql = CONTENT_HEADER\n",
    "content_sql += ',\\n'.join( [ CONTENT_ROW.format(**item) for item in content_items ])\n",
    "content_sql += ';'\n",
    "content_sql"
   ]
  },
  {
   "cell_type": "code",
   "execution_count": null,
   "metadata": {},
   "outputs": [],
   "source": []
  },
  {
   "cell_type": "code",
   "execution_count": null,
   "metadata": {},
   "outputs": [],
   "source": [
    "# Write SQL file\n",
    "with open(CONTENT_SQL_FILE, 'w') as f:\n",
    "    f.write(content_sql)"
   ]
  },
  {
   "cell_type": "code",
   "execution_count": null,
   "metadata": {},
   "outputs": [],
   "source": []
  }
 ],
 "metadata": {
  "kernelspec": {
   "display_name": ".venv",
   "language": "python",
   "name": "python3"
  },
  "language_info": {
   "codemirror_mode": {
    "name": "ipython",
    "version": 3
   },
   "file_extension": ".py",
   "mimetype": "text/x-python",
   "name": "python",
   "nbconvert_exporter": "python",
   "pygments_lexer": "ipython3",
   "version": "3.11.6"
  }
 },
 "nbformat": 4,
 "nbformat_minor": 2
}
